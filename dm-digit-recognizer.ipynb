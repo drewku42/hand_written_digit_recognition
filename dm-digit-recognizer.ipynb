{
 "cells": [
  {
   "cell_type": "code",
   "execution_count": 1,
   "id": "1c2e1615",
   "metadata": {
    "_cell_guid": "b1076dfc-b9ad-4769-8c92-a6c4dae69d19",
    "_uuid": "8f2839f25d086af736a60e9eeb907d3b93b6e0e5",
    "execution": {
     "iopub.execute_input": "2023-08-04T04:02:45.391098Z",
     "iopub.status.busy": "2023-08-04T04:02:45.390675Z",
     "iopub.status.idle": "2023-08-04T04:02:45.406491Z",
     "shell.execute_reply": "2023-08-04T04:02:45.405514Z"
    },
    "papermill": {
     "duration": 0.027597,
     "end_time": "2023-08-04T04:02:45.409087",
     "exception": false,
     "start_time": "2023-08-04T04:02:45.381490",
     "status": "completed"
    },
    "tags": []
   },
   "outputs": [
    {
     "name": "stdout",
     "output_type": "stream",
     "text": [
      "/kaggle/input/digit-recognizer/sample_submission.csv\n",
      "/kaggle/input/digit-recognizer/train.csv\n",
      "/kaggle/input/digit-recognizer/test.csv\n"
     ]
    }
   ],
   "source": [
    "# This Python 3 environment comes with many helpful analytics libraries installed\n",
    "# It is defined by the kaggle/python Docker image: https://github.com/kaggle/docker-python\n",
    "# For example, here's several helpful packages to load\n",
    "\n",
    "import numpy as np # linear algebra\n",
    "import pandas as pd # data processing, CSV file I/O (e.g. pd.read_csv)\n",
    "\n",
    "# Input data files are available in the read-only \"../input/\" directory\n",
    "# For example, running this (by clicking run or pressing Shift+Enter) will list all files under the input directory\n",
    "\n",
    "import os\n",
    "for dirname, _, filenames in os.walk('/kaggle/input'):\n",
    "    for filename in filenames:\n",
    "        print(os.path.join(dirname, filename))\n",
    "\n",
    "# You can write up to 20GB to the current directory (/kaggle/working/) that gets preserved as output when you create a version using \"Save & Run All\" \n",
    "# You can also write temporary files to /kaggle/temp/, but they won't be saved outside of the current session"
   ]
  },
  {
   "cell_type": "markdown",
   "id": "0a667862",
   "metadata": {
    "papermill": {
     "duration": 0.00606,
     "end_time": "2023-08-04T04:02:45.421391",
     "exception": false,
     "start_time": "2023-08-04T04:02:45.415331",
     "status": "completed"
    },
    "tags": []
   },
   "source": [
    "# **TensorFlow Implementation**\n",
    "> I will be using the tensorflow library and associated keras models and functions to implement a multiclass regression model which labels handwritten digits. This will be done using a sequential model and forward propogation with the dense layer. Theloss function for the model is sparse categorical crossentropy. Lastly, the activation functions used are linear and ReLU."
   ]
  },
  {
   "cell_type": "code",
   "execution_count": 2,
   "id": "03fe5f01",
   "metadata": {
    "execution": {
     "iopub.execute_input": "2023-08-04T04:02:45.436341Z",
     "iopub.status.busy": "2023-08-04T04:02:45.435229Z",
     "iopub.status.idle": "2023-08-04T04:02:56.025113Z",
     "shell.execute_reply": "2023-08-04T04:02:56.023848Z"
    },
    "papermill": {
     "duration": 10.600365,
     "end_time": "2023-08-04T04:02:56.028087",
     "exception": false,
     "start_time": "2023-08-04T04:02:45.427722",
     "status": "completed"
    },
    "tags": []
   },
   "outputs": [
    {
     "name": "stderr",
     "output_type": "stream",
     "text": [
      "/opt/conda/lib/python3.10/site-packages/scipy/__init__.py:146: UserWarning: A NumPy version >=1.16.5 and <1.23.0 is required for this version of SciPy (detected version 1.23.5\n",
      "  warnings.warn(f\"A NumPy version >={np_minversion} and <{np_maxversion}\"\n",
      "/opt/conda/lib/python3.10/site-packages/tensorflow_io/python/ops/__init__.py:98: UserWarning: unable to load libtensorflow_io_plugins.so: unable to open file: libtensorflow_io_plugins.so, from paths: ['/opt/conda/lib/python3.10/site-packages/tensorflow_io/python/ops/libtensorflow_io_plugins.so']\n",
      "caused by: ['/opt/conda/lib/python3.10/site-packages/tensorflow_io/python/ops/libtensorflow_io_plugins.so: undefined symbol: _ZN3tsl6StatusC1EN10tensorflow5error4CodeESt17basic_string_viewIcSt11char_traitsIcEENS_14SourceLocationE']\n",
      "  warnings.warn(f\"unable to load libtensorflow_io_plugins.so: {e}\")\n",
      "/opt/conda/lib/python3.10/site-packages/tensorflow_io/python/ops/__init__.py:104: UserWarning: file system plugins are not loaded: unable to open file: libtensorflow_io.so, from paths: ['/opt/conda/lib/python3.10/site-packages/tensorflow_io/python/ops/libtensorflow_io.so']\n",
      "caused by: ['/opt/conda/lib/python3.10/site-packages/tensorflow_io/python/ops/libtensorflow_io.so: undefined symbol: _ZTVN10tensorflow13GcsFileSystemE']\n",
      "  warnings.warn(f\"file system plugins are not loaded: {e}\")\n"
     ]
    }
   ],
   "source": [
    "import tensorflow as tf # import tensorflow library\n",
    "from tensorflow.keras import Sequential # import model\n",
    "from tensorflow.keras.layers import Dense # import forward prop layer\n",
    "from tensorflow.keras.losses import SparseCategoricalCrossentropy # import loss function\n",
    "from tensorflow.keras.activations import linear, relu # import activation functions"
   ]
  },
  {
   "cell_type": "markdown",
   "id": "82aeacaf",
   "metadata": {
    "papermill": {
     "duration": 0.00634,
     "end_time": "2023-08-04T04:02:56.040925",
     "exception": false,
     "start_time": "2023-08-04T04:02:56.034585",
     "status": "completed"
    },
    "tags": []
   },
   "source": [
    "# Initialize Training Data Frame\n",
    "In this section we access and observe the training data. In this case...\n",
    "- each image is 28 pixels in height and 28 pixels in width, for a total of 784 pixels in total\n",
    "- each pixel has a single pixel-value indicating the lightness/darkness of that pixel (higher meaning darker) \n",
    "- this pixel-value is an integer between 0 and 255, inclusive.\n",
    "\n",
    "The training data set, (train.csv), has 785 columns. The first column, called \"label\", is the digit that was drawn by the user. The rest of the columns contain the pixel-values of the associated image."
   ]
  },
  {
   "cell_type": "code",
   "execution_count": 3,
   "id": "68d8c89e",
   "metadata": {
    "execution": {
     "iopub.execute_input": "2023-08-04T04:02:56.056891Z",
     "iopub.status.busy": "2023-08-04T04:02:56.056015Z",
     "iopub.status.idle": "2023-08-04T04:03:00.863863Z",
     "shell.execute_reply": "2023-08-04T04:03:00.862453Z"
    },
    "papermill": {
     "duration": 4.818885,
     "end_time": "2023-08-04T04:03:00.866578",
     "exception": false,
     "start_time": "2023-08-04T04:02:56.047693",
     "status": "completed"
    },
    "tags": []
   },
   "outputs": [
    {
     "data": {
      "text/html": [
       "<div>\n",
       "<style scoped>\n",
       "    .dataframe tbody tr th:only-of-type {\n",
       "        vertical-align: middle;\n",
       "    }\n",
       "\n",
       "    .dataframe tbody tr th {\n",
       "        vertical-align: top;\n",
       "    }\n",
       "\n",
       "    .dataframe thead th {\n",
       "        text-align: right;\n",
       "    }\n",
       "</style>\n",
       "<table border=\"1\" class=\"dataframe\">\n",
       "  <thead>\n",
       "    <tr style=\"text-align: right;\">\n",
       "      <th></th>\n",
       "      <th>label</th>\n",
       "      <th>pixel0</th>\n",
       "      <th>pixel1</th>\n",
       "      <th>pixel2</th>\n",
       "      <th>pixel3</th>\n",
       "      <th>pixel4</th>\n",
       "      <th>pixel5</th>\n",
       "      <th>pixel6</th>\n",
       "      <th>pixel7</th>\n",
       "      <th>pixel8</th>\n",
       "      <th>...</th>\n",
       "      <th>pixel774</th>\n",
       "      <th>pixel775</th>\n",
       "      <th>pixel776</th>\n",
       "      <th>pixel777</th>\n",
       "      <th>pixel778</th>\n",
       "      <th>pixel779</th>\n",
       "      <th>pixel780</th>\n",
       "      <th>pixel781</th>\n",
       "      <th>pixel782</th>\n",
       "      <th>pixel783</th>\n",
       "    </tr>\n",
       "  </thead>\n",
       "  <tbody>\n",
       "    <tr>\n",
       "      <th>0</th>\n",
       "      <td>1</td>\n",
       "      <td>0</td>\n",
       "      <td>0</td>\n",
       "      <td>0</td>\n",
       "      <td>0</td>\n",
       "      <td>0</td>\n",
       "      <td>0</td>\n",
       "      <td>0</td>\n",
       "      <td>0</td>\n",
       "      <td>0</td>\n",
       "      <td>...</td>\n",
       "      <td>0</td>\n",
       "      <td>0</td>\n",
       "      <td>0</td>\n",
       "      <td>0</td>\n",
       "      <td>0</td>\n",
       "      <td>0</td>\n",
       "      <td>0</td>\n",
       "      <td>0</td>\n",
       "      <td>0</td>\n",
       "      <td>0</td>\n",
       "    </tr>\n",
       "    <tr>\n",
       "      <th>1</th>\n",
       "      <td>0</td>\n",
       "      <td>0</td>\n",
       "      <td>0</td>\n",
       "      <td>0</td>\n",
       "      <td>0</td>\n",
       "      <td>0</td>\n",
       "      <td>0</td>\n",
       "      <td>0</td>\n",
       "      <td>0</td>\n",
       "      <td>0</td>\n",
       "      <td>...</td>\n",
       "      <td>0</td>\n",
       "      <td>0</td>\n",
       "      <td>0</td>\n",
       "      <td>0</td>\n",
       "      <td>0</td>\n",
       "      <td>0</td>\n",
       "      <td>0</td>\n",
       "      <td>0</td>\n",
       "      <td>0</td>\n",
       "      <td>0</td>\n",
       "    </tr>\n",
       "    <tr>\n",
       "      <th>2</th>\n",
       "      <td>1</td>\n",
       "      <td>0</td>\n",
       "      <td>0</td>\n",
       "      <td>0</td>\n",
       "      <td>0</td>\n",
       "      <td>0</td>\n",
       "      <td>0</td>\n",
       "      <td>0</td>\n",
       "      <td>0</td>\n",
       "      <td>0</td>\n",
       "      <td>...</td>\n",
       "      <td>0</td>\n",
       "      <td>0</td>\n",
       "      <td>0</td>\n",
       "      <td>0</td>\n",
       "      <td>0</td>\n",
       "      <td>0</td>\n",
       "      <td>0</td>\n",
       "      <td>0</td>\n",
       "      <td>0</td>\n",
       "      <td>0</td>\n",
       "    </tr>\n",
       "    <tr>\n",
       "      <th>3</th>\n",
       "      <td>4</td>\n",
       "      <td>0</td>\n",
       "      <td>0</td>\n",
       "      <td>0</td>\n",
       "      <td>0</td>\n",
       "      <td>0</td>\n",
       "      <td>0</td>\n",
       "      <td>0</td>\n",
       "      <td>0</td>\n",
       "      <td>0</td>\n",
       "      <td>...</td>\n",
       "      <td>0</td>\n",
       "      <td>0</td>\n",
       "      <td>0</td>\n",
       "      <td>0</td>\n",
       "      <td>0</td>\n",
       "      <td>0</td>\n",
       "      <td>0</td>\n",
       "      <td>0</td>\n",
       "      <td>0</td>\n",
       "      <td>0</td>\n",
       "    </tr>\n",
       "    <tr>\n",
       "      <th>4</th>\n",
       "      <td>0</td>\n",
       "      <td>0</td>\n",
       "      <td>0</td>\n",
       "      <td>0</td>\n",
       "      <td>0</td>\n",
       "      <td>0</td>\n",
       "      <td>0</td>\n",
       "      <td>0</td>\n",
       "      <td>0</td>\n",
       "      <td>0</td>\n",
       "      <td>...</td>\n",
       "      <td>0</td>\n",
       "      <td>0</td>\n",
       "      <td>0</td>\n",
       "      <td>0</td>\n",
       "      <td>0</td>\n",
       "      <td>0</td>\n",
       "      <td>0</td>\n",
       "      <td>0</td>\n",
       "      <td>0</td>\n",
       "      <td>0</td>\n",
       "    </tr>\n",
       "  </tbody>\n",
       "</table>\n",
       "<p>5 rows × 785 columns</p>\n",
       "</div>"
      ],
      "text/plain": [
       "   label  pixel0  pixel1  pixel2  pixel3  pixel4  pixel5  pixel6  pixel7  \\\n",
       "0      1       0       0       0       0       0       0       0       0   \n",
       "1      0       0       0       0       0       0       0       0       0   \n",
       "2      1       0       0       0       0       0       0       0       0   \n",
       "3      4       0       0       0       0       0       0       0       0   \n",
       "4      0       0       0       0       0       0       0       0       0   \n",
       "\n",
       "   pixel8  ...  pixel774  pixel775  pixel776  pixel777  pixel778  pixel779  \\\n",
       "0       0  ...         0         0         0         0         0         0   \n",
       "1       0  ...         0         0         0         0         0         0   \n",
       "2       0  ...         0         0         0         0         0         0   \n",
       "3       0  ...         0         0         0         0         0         0   \n",
       "4       0  ...         0         0         0         0         0         0   \n",
       "\n",
       "   pixel780  pixel781  pixel782  pixel783  \n",
       "0         0         0         0         0  \n",
       "1         0         0         0         0  \n",
       "2         0         0         0         0  \n",
       "3         0         0         0         0  \n",
       "4         0         0         0         0  \n",
       "\n",
       "[5 rows x 785 columns]"
      ]
     },
     "execution_count": 3,
     "metadata": {},
     "output_type": "execute_result"
    }
   ],
   "source": [
    "train = pd.read_csv('/kaggle/input/digit-recognizer/train.csv')\n",
    "train.head()"
   ]
  },
  {
   "cell_type": "code",
   "execution_count": 4,
   "id": "32f8bbc0",
   "metadata": {
    "execution": {
     "iopub.execute_input": "2023-08-04T04:03:00.882268Z",
     "iopub.status.busy": "2023-08-04T04:03:00.881792Z",
     "iopub.status.idle": "2023-08-04T04:03:01.077839Z",
     "shell.execute_reply": "2023-08-04T04:03:01.076561Z"
    },
    "papermill": {
     "duration": 0.208342,
     "end_time": "2023-08-04T04:03:01.081869",
     "exception": false,
     "start_time": "2023-08-04T04:03:00.873527",
     "status": "completed"
    },
    "tags": []
   },
   "outputs": [
    {
     "name": "stdout",
     "output_type": "stream",
     "text": [
      "X_train shape: (42000, 784)\n",
      "y_train shape: (42000,)\n"
     ]
    }
   ],
   "source": [
    "x_train = train.drop('label', axis=1).values\n",
    "y_train = train['label'].values\n",
    "\n",
    "print(\"X_train shape:\", x_train.shape)\n",
    "print(\"y_train shape:\", y_train.shape)"
   ]
  },
  {
   "cell_type": "markdown",
   "id": "f6270f35",
   "metadata": {
    "papermill": {
     "duration": 0.006543,
     "end_time": "2023-08-04T04:03:01.097177",
     "exception": false,
     "start_time": "2023-08-04T04:03:01.090634",
     "status": "completed"
    },
    "tags": []
   },
   "source": [
    "# **Model Architecture**\n",
    "- By using the sequential model, each unit in a layer receives input from all previous units\n",
    "- The ReLU activation function takes an integer and returns 0 if the integer is negative, or returns the same integer if it is positive\n",
    "- The linear activation function simply returns the input."
   ]
  },
  {
   "cell_type": "code",
   "execution_count": 5,
   "id": "09f512e0",
   "metadata": {
    "execution": {
     "iopub.execute_input": "2023-08-04T04:03:01.113118Z",
     "iopub.status.busy": "2023-08-04T04:03:01.112308Z",
     "iopub.status.idle": "2023-08-04T04:03:01.336172Z",
     "shell.execute_reply": "2023-08-04T04:03:01.334963Z"
    },
    "papermill": {
     "duration": 0.235462,
     "end_time": "2023-08-04T04:03:01.339413",
     "exception": false,
     "start_time": "2023-08-04T04:03:01.103951",
     "status": "completed"
    },
    "tags": []
   },
   "outputs": [],
   "source": [
    "model = Sequential([\n",
    "    tf.keras.Input(shape=(784,)),\n",
    "    Dense(units=25, activation='relu'), # define first layer with 25 neurons and relu activation function\n",
    "    Dense(units=15, activation='relu'), # define second layer with 15 neurons and relu activation function\n",
    "    Dense(units=10, activation='linear') # define third and final layer\n",
    "])"
   ]
  },
  {
   "cell_type": "markdown",
   "id": "2a71c556",
   "metadata": {
    "papermill": {
     "duration": 0.006948,
     "end_time": "2023-08-04T04:03:01.353974",
     "exception": false,
     "start_time": "2023-08-04T04:03:01.347026",
     "status": "completed"
    },
    "tags": []
   },
   "source": [
    "**Loss and Cost Functions**\n",
    "- from_logits=True improves rounding errors for numnerical accuracy\n",
    "- Adam algorithm automatically adjusts learning rate\n"
   ]
  },
  {
   "cell_type": "code",
   "execution_count": 6,
   "id": "6d3bf465",
   "metadata": {
    "execution": {
     "iopub.execute_input": "2023-08-04T04:03:01.369632Z",
     "iopub.status.busy": "2023-08-04T04:03:01.369135Z",
     "iopub.status.idle": "2023-08-04T04:03:01.394647Z",
     "shell.execute_reply": "2023-08-04T04:03:01.393296Z"
    },
    "papermill": {
     "duration": 0.036722,
     "end_time": "2023-08-04T04:03:01.397566",
     "exception": false,
     "start_time": "2023-08-04T04:03:01.360844",
     "status": "completed"
    },
    "tags": []
   },
   "outputs": [],
   "source": [
    "model.compile(optimizer = tf.keras.optimizers.Adam(learning_rate=1e-3),\n",
    "  loss = SparseCategoricalCrossentropy(from_logits=True) )"
   ]
  },
  {
   "cell_type": "markdown",
   "id": "854d0d2e",
   "metadata": {
    "papermill": {
     "duration": 0.006477,
     "end_time": "2023-08-04T04:03:01.411051",
     "exception": false,
     "start_time": "2023-08-04T04:03:01.404574",
     "status": "completed"
    },
    "tags": []
   },
   "source": [
    "**Train on data to minimize cost function**"
   ]
  },
  {
   "cell_type": "code",
   "execution_count": 7,
   "id": "55ff00b5",
   "metadata": {
    "execution": {
     "iopub.execute_input": "2023-08-04T04:03:01.426712Z",
     "iopub.status.busy": "2023-08-04T04:03:01.426213Z",
     "iopub.status.idle": "2023-08-04T04:06:25.297428Z",
     "shell.execute_reply": "2023-08-04T04:06:25.295960Z"
    },
    "papermill": {
     "duration": 204.165986,
     "end_time": "2023-08-04T04:06:25.583844",
     "exception": false,
     "start_time": "2023-08-04T04:03:01.417858",
     "status": "completed"
    },
    "tags": []
   },
   "outputs": [
    {
     "name": "stdout",
     "output_type": "stream",
     "text": [
      "Epoch 1/50\n",
      "1313/1313 [==============================] - 4s 2ms/step - loss: 1.8887\n",
      "Epoch 2/50\n",
      "1313/1313 [==============================] - 3s 2ms/step - loss: 0.8610\n",
      "Epoch 3/50\n",
      "1313/1313 [==============================] - 3s 2ms/step - loss: 0.5993\n",
      "Epoch 4/50\n",
      "1313/1313 [==============================] - 3s 2ms/step - loss: 0.4355\n",
      "Epoch 5/50\n",
      "1313/1313 [==============================] - 3s 2ms/step - loss: 0.3403\n",
      "Epoch 6/50\n",
      "1313/1313 [==============================] - 3s 2ms/step - loss: 0.2918\n",
      "Epoch 7/50\n",
      "1313/1313 [==============================] - 3s 2ms/step - loss: 0.2545\n",
      "Epoch 8/50\n",
      "1313/1313 [==============================] - 3s 2ms/step - loss: 0.2272\n",
      "Epoch 9/50\n",
      "1313/1313 [==============================] - 3s 2ms/step - loss: 0.2129\n",
      "Epoch 10/50\n",
      "1313/1313 [==============================] - 3s 2ms/step - loss: 0.1970\n",
      "Epoch 11/50\n",
      "1313/1313 [==============================] - 3s 2ms/step - loss: 0.1806\n",
      "Epoch 12/50\n",
      "1313/1313 [==============================] - 3s 2ms/step - loss: 0.1803\n",
      "Epoch 13/50\n",
      "1313/1313 [==============================] - 3s 2ms/step - loss: 0.1679\n",
      "Epoch 14/50\n",
      "1313/1313 [==============================] - 3s 2ms/step - loss: 0.1611\n",
      "Epoch 15/50\n",
      "1313/1313 [==============================] - 3s 2ms/step - loss: 0.1548\n",
      "Epoch 16/50\n",
      "1313/1313 [==============================] - 3s 2ms/step - loss: 0.1465\n",
      "Epoch 17/50\n",
      "1313/1313 [==============================] - 3s 2ms/step - loss: 0.1449\n",
      "Epoch 18/50\n",
      "1313/1313 [==============================] - 3s 2ms/step - loss: 0.1408\n",
      "Epoch 19/50\n",
      "1313/1313 [==============================] - 3s 2ms/step - loss: 0.1360\n",
      "Epoch 20/50\n",
      "1313/1313 [==============================] - 3s 2ms/step - loss: 0.1315\n",
      "Epoch 21/50\n",
      "1313/1313 [==============================] - 3s 2ms/step - loss: 0.1281\n",
      "Epoch 22/50\n",
      "1313/1313 [==============================] - 3s 2ms/step - loss: 0.1251\n",
      "Epoch 23/50\n",
      "1313/1313 [==============================] - 3s 2ms/step - loss: 0.1216\n",
      "Epoch 24/50\n",
      "1313/1313 [==============================] - 3s 2ms/step - loss: 0.1175\n",
      "Epoch 25/50\n",
      "1313/1313 [==============================] - 3s 2ms/step - loss: 0.1184\n",
      "Epoch 26/50\n",
      "1313/1313 [==============================] - 3s 2ms/step - loss: 0.1136\n",
      "Epoch 27/50\n",
      "1313/1313 [==============================] - 3s 2ms/step - loss: 0.1074\n",
      "Epoch 28/50\n",
      "1313/1313 [==============================] - 3s 2ms/step - loss: 0.1090\n",
      "Epoch 29/50\n",
      "1313/1313 [==============================] - 3s 2ms/step - loss: 0.1078\n",
      "Epoch 30/50\n",
      "1313/1313 [==============================] - 3s 2ms/step - loss: 0.1025\n",
      "Epoch 31/50\n",
      "1313/1313 [==============================] - 3s 2ms/step - loss: 0.1089\n",
      "Epoch 32/50\n",
      "1313/1313 [==============================] - 3s 2ms/step - loss: 0.0967\n",
      "Epoch 33/50\n",
      "1313/1313 [==============================] - 3s 2ms/step - loss: 0.0964\n",
      "Epoch 34/50\n",
      "1313/1313 [==============================] - 3s 2ms/step - loss: 0.0986\n",
      "Epoch 35/50\n",
      "1313/1313 [==============================] - 3s 2ms/step - loss: 0.0950\n",
      "Epoch 36/50\n",
      "1313/1313 [==============================] - 3s 2ms/step - loss: 0.0984\n",
      "Epoch 37/50\n",
      "1313/1313 [==============================] - 3s 2ms/step - loss: 0.0957\n",
      "Epoch 38/50\n",
      "1313/1313 [==============================] - 3s 2ms/step - loss: 0.0944\n",
      "Epoch 39/50\n",
      "1313/1313 [==============================] - 3s 2ms/step - loss: 0.0953\n",
      "Epoch 40/50\n",
      "1313/1313 [==============================] - 3s 2ms/step - loss: 0.0915\n",
      "Epoch 41/50\n",
      "1313/1313 [==============================] - 3s 2ms/step - loss: 0.0857\n",
      "Epoch 42/50\n",
      "1313/1313 [==============================] - 3s 2ms/step - loss: 0.0916\n",
      "Epoch 43/50\n",
      "1313/1313 [==============================] - 3s 2ms/step - loss: 0.0878\n",
      "Epoch 44/50\n",
      "1313/1313 [==============================] - 3s 2ms/step - loss: 0.0845\n",
      "Epoch 45/50\n",
      "1313/1313 [==============================] - 3s 2ms/step - loss: 0.0875\n",
      "Epoch 46/50\n",
      "1313/1313 [==============================] - 3s 2ms/step - loss: 0.0850\n",
      "Epoch 47/50\n",
      "1313/1313 [==============================] - 3s 2ms/step - loss: 0.0840\n",
      "Epoch 48/50\n",
      "1313/1313 [==============================] - 3s 2ms/step - loss: 0.0809\n",
      "Epoch 49/50\n",
      "1313/1313 [==============================] - 3s 2ms/step - loss: 0.0817\n",
      "Epoch 50/50\n",
      "1313/1313 [==============================] - 4s 3ms/step - loss: 0.0837\n"
     ]
    },
    {
     "data": {
      "text/plain": [
       "<keras.callbacks.History at 0x784f0bbe3ac0>"
      ]
     },
     "execution_count": 7,
     "metadata": {},
     "output_type": "execute_result"
    }
   ],
   "source": [
    "model.fit(x_train, y_train, epochs=50)"
   ]
  },
  {
   "cell_type": "code",
   "execution_count": 8,
   "id": "2131d15b",
   "metadata": {
    "execution": {
     "iopub.execute_input": "2023-08-04T04:06:26.150264Z",
     "iopub.status.busy": "2023-08-04T04:06:26.149163Z",
     "iopub.status.idle": "2023-08-04T04:06:28.814015Z",
     "shell.execute_reply": "2023-08-04T04:06:28.812819Z"
    },
    "papermill": {
     "duration": 2.949656,
     "end_time": "2023-08-04T04:06:28.817397",
     "exception": false,
     "start_time": "2023-08-04T04:06:25.867741",
     "status": "completed"
    },
    "tags": []
   },
   "outputs": [],
   "source": [
    "# preprocess test data\n",
    "test = pd.read_csv('/kaggle/input/digit-recognizer/test.csv')\n",
    "test.head()\n",
    "\n",
    "x_test = test.values"
   ]
  },
  {
   "cell_type": "code",
   "execution_count": 9,
   "id": "831c84c3",
   "metadata": {
    "execution": {
     "iopub.execute_input": "2023-08-04T04:06:29.385199Z",
     "iopub.status.busy": "2023-08-04T04:06:29.384224Z",
     "iopub.status.idle": "2023-08-04T04:06:31.663556Z",
     "shell.execute_reply": "2023-08-04T04:06:31.662333Z"
    },
    "papermill": {
     "duration": 2.565409,
     "end_time": "2023-08-04T04:06:31.666418",
     "exception": false,
     "start_time": "2023-08-04T04:06:29.101009",
     "status": "completed"
    },
    "tags": []
   },
   "outputs": [
    {
     "name": "stdout",
     "output_type": "stream",
     "text": [
      "875/875 [==============================] - 2s 2ms/step\n"
     ]
    }
   ],
   "source": [
    "predict_probabilities = model.predict(x_test)"
   ]
  },
  {
   "cell_type": "code",
   "execution_count": 10,
   "id": "cc8687ca",
   "metadata": {
    "execution": {
     "iopub.execute_input": "2023-08-04T04:06:32.319584Z",
     "iopub.status.busy": "2023-08-04T04:06:32.319076Z",
     "iopub.status.idle": "2023-08-04T04:06:32.326082Z",
     "shell.execute_reply": "2023-08-04T04:06:32.324566Z"
    },
    "papermill": {
     "duration": 0.304369,
     "end_time": "2023-08-04T04:06:32.329423",
     "exception": false,
     "start_time": "2023-08-04T04:06:32.025054",
     "status": "completed"
    },
    "tags": []
   },
   "outputs": [],
   "source": [
    "# use trained model to make predictions on the test data\n",
    "predictions = predict_probabilities.argmax(axis=1)"
   ]
  },
  {
   "cell_type": "code",
   "execution_count": 11,
   "id": "ae0c6c49",
   "metadata": {
    "execution": {
     "iopub.execute_input": "2023-08-04T04:06:32.911316Z",
     "iopub.status.busy": "2023-08-04T04:06:32.910832Z",
     "iopub.status.idle": "2023-08-04T04:06:32.919194Z",
     "shell.execute_reply": "2023-08-04T04:06:32.917809Z"
    },
    "papermill": {
     "duration": 0.306394,
     "end_time": "2023-08-04T04:06:32.922178",
     "exception": false,
     "start_time": "2023-08-04T04:06:32.615784",
     "status": "completed"
    },
    "tags": []
   },
   "outputs": [],
   "source": [
    "submission = pd.DataFrame({'ImageId': range(1, len(predictions) + 1), 'Label': predictions})"
   ]
  },
  {
   "cell_type": "code",
   "execution_count": 12,
   "id": "f550ad16",
   "metadata": {
    "execution": {
     "iopub.execute_input": "2023-08-04T04:06:33.500240Z",
     "iopub.status.busy": "2023-08-04T04:06:33.499776Z",
     "iopub.status.idle": "2023-08-04T04:06:33.570955Z",
     "shell.execute_reply": "2023-08-04T04:06:33.569588Z"
    },
    "papermill": {
     "duration": 0.363232,
     "end_time": "2023-08-04T04:06:33.574359",
     "exception": false,
     "start_time": "2023-08-04T04:06:33.211127",
     "status": "completed"
    },
    "tags": []
   },
   "outputs": [],
   "source": [
    "submission.to_csv('submission.csv', index=False)"
   ]
  }
 ],
 "metadata": {
  "kernelspec": {
   "display_name": "Python 3",
   "language": "python",
   "name": "python3"
  },
  "language_info": {
   "codemirror_mode": {
    "name": "ipython",
    "version": 3
   },
   "file_extension": ".py",
   "mimetype": "text/x-python",
   "name": "python",
   "nbconvert_exporter": "python",
   "pygments_lexer": "ipython3",
   "version": "3.10.12"
  },
  "papermill": {
   "default_parameters": {},
   "duration": 245.050357,
   "end_time": "2023-08-04T04:06:36.809716",
   "environment_variables": {},
   "exception": null,
   "input_path": "__notebook__.ipynb",
   "output_path": "__notebook__.ipynb",
   "parameters": {},
   "start_time": "2023-08-04T04:02:31.759359",
   "version": "2.4.0"
  }
 },
 "nbformat": 4,
 "nbformat_minor": 5
}
